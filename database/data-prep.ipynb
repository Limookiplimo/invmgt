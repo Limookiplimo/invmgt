{
 "cells": [
  {
   "cell_type": "markdown",
   "id": "6a2f761e",
   "metadata": {},
   "source": [
    "# Data Preparation"
   ]
  },
  {
   "cell_type": "markdown",
   "id": "715f8c9d",
   "metadata": {},
   "source": [
    "The objective is to clean data, enrich the dataset, and load it to different tables in PostgreSQL database."
   ]
  },
  {
   "cell_type": "code",
   "execution_count": 10,
   "id": "b2a19098",
   "metadata": {},
   "outputs": [],
   "source": [
    "import pandas as pd\n",
    "import psycopg2\n",
    "import csv\n",
    "import warnings\n",
    "\n",
    "warnings.filterwarnings('ignore')"
   ]
  },
  {
   "cell_type": "markdown",
   "id": "53c2339c",
   "metadata": {},
   "source": [
    "# Orders"
   ]
  },
  {
   "cell_type": "code",
   "execution_count": 21,
   "id": "35e88361",
   "metadata": {},
   "outputs": [],
   "source": [
    "df = pd.read_csv('orders.csv')"
   ]
  },
  {
   "cell_type": "code",
   "execution_count": 22,
   "id": "48b5ae4b",
   "metadata": {},
   "outputs": [],
   "source": [
    "df['WEIGHT'] = df['QUANTITY']*24"
   ]
  },
  {
   "cell_type": "code",
   "execution_count": 23,
   "id": "25030588",
   "metadata": {},
   "outputs": [],
   "source": [
    "df['AMOUNT'] = ''"
   ]
  },
  {
   "cell_type": "code",
   "execution_count": 24,
   "id": "4cc66963",
   "metadata": {},
   "outputs": [],
   "source": [
    "prices = {'AJA001':1250, 'SOK001':1230, 'DUN001':1180, 'LOT001':1200, 'PEM001':1250,'BAB001':1210,'MAI001':1190, 'SMA001':1190, 'UMI001':1215}\n",
    "df['AMOUNT'] = df['PRDTID'].map(prices) * df['QUANTITY']"
   ]
  },
  {
   "cell_type": "code",
   "execution_count": 25,
   "id": "f76b1d71",
   "metadata": {},
   "outputs": [
    {
     "name": "stdout",
     "output_type": "stream",
     "text": [
      "Series([], Name: AMOUNT, dtype: int64)\n"
     ]
    }
   ],
   "source": [
    "empty_strings = df[df['AMOUNT'] == '']\n",
    "print(empty_strings['AMOUNT'])"
   ]
  },
  {
   "cell_type": "code",
   "execution_count": 26,
   "id": "039a07cc",
   "metadata": {},
   "outputs": [],
   "source": [
    "df['ORDTIME'] = pd.to_datetime(df['ORDTIME'], format='%H:%M:%S').dt.time\n",
    "df['ORDDATE'] = pd.to_datetime(df['ORDDATE'], format='%y/%m/%d')"
   ]
  },
  {
   "cell_type": "code",
   "execution_count": 27,
   "id": "c2c72113",
   "metadata": {},
   "outputs": [],
   "source": [
    "df['EVENTTIME'] = pd.to_datetime(df['ORDDATE'].astype(str) + ' ' + df['ORDTIME'].astype(str))"
   ]
  },
  {
   "cell_type": "code",
   "execution_count": 28,
   "id": "e82fdd9f",
   "metadata": {},
   "outputs": [
    {
     "data": {
      "text/html": [
       "<div>\n",
       "<style scoped>\n",
       "    .dataframe tbody tr th:only-of-type {\n",
       "        vertical-align: middle;\n",
       "    }\n",
       "\n",
       "    .dataframe tbody tr th {\n",
       "        vertical-align: top;\n",
       "    }\n",
       "\n",
       "    .dataframe thead th {\n",
       "        text-align: right;\n",
       "    }\n",
       "</style>\n",
       "<table border=\"1\" class=\"dataframe\">\n",
       "  <thead>\n",
       "    <tr style=\"text-align: right;\">\n",
       "      <th></th>\n",
       "      <th>ID</th>\n",
       "      <th>CSMCODE</th>\n",
       "      <th>ORDDATE</th>\n",
       "      <th>ORDTIME</th>\n",
       "      <th>PRDTID</th>\n",
       "      <th>QUANTITY</th>\n",
       "      <th>WEIGHT</th>\n",
       "      <th>AMOUNT</th>\n",
       "      <th>EVENTTIME</th>\n",
       "    </tr>\n",
       "  </thead>\n",
       "  <tbody>\n",
       "    <tr>\n",
       "      <th>0</th>\n",
       "      <td>10001</td>\n",
       "      <td>CSM001</td>\n",
       "      <td>2014-07-23</td>\n",
       "      <td>06:25:00</td>\n",
       "      <td>AJA001</td>\n",
       "      <td>10</td>\n",
       "      <td>240</td>\n",
       "      <td>12500</td>\n",
       "      <td>2014-07-23 06:25:00</td>\n",
       "    </tr>\n",
       "    <tr>\n",
       "      <th>1</th>\n",
       "      <td>10001</td>\n",
       "      <td>CSM001</td>\n",
       "      <td>2014-07-23</td>\n",
       "      <td>06:30:00</td>\n",
       "      <td>SOK001</td>\n",
       "      <td>10</td>\n",
       "      <td>240</td>\n",
       "      <td>12300</td>\n",
       "      <td>2014-07-23 06:30:00</td>\n",
       "    </tr>\n",
       "    <tr>\n",
       "      <th>2</th>\n",
       "      <td>10002</td>\n",
       "      <td>CSM003</td>\n",
       "      <td>2014-07-23</td>\n",
       "      <td>06:35:00</td>\n",
       "      <td>AJA001</td>\n",
       "      <td>25</td>\n",
       "      <td>600</td>\n",
       "      <td>31250</td>\n",
       "      <td>2014-07-23 06:35:00</td>\n",
       "    </tr>\n",
       "    <tr>\n",
       "      <th>3</th>\n",
       "      <td>10003</td>\n",
       "      <td>CSM002</td>\n",
       "      <td>2014-07-23</td>\n",
       "      <td>06:40:00</td>\n",
       "      <td>DUN001</td>\n",
       "      <td>10</td>\n",
       "      <td>240</td>\n",
       "      <td>11800</td>\n",
       "      <td>2014-07-23 06:40:00</td>\n",
       "    </tr>\n",
       "    <tr>\n",
       "      <th>4</th>\n",
       "      <td>10003</td>\n",
       "      <td>CSM002</td>\n",
       "      <td>2014-07-23</td>\n",
       "      <td>06:45:00</td>\n",
       "      <td>LOT001</td>\n",
       "      <td>20</td>\n",
       "      <td>480</td>\n",
       "      <td>24000</td>\n",
       "      <td>2014-07-23 06:45:00</td>\n",
       "    </tr>\n",
       "  </tbody>\n",
       "</table>\n",
       "</div>"
      ],
      "text/plain": [
       "      ID CSMCODE    ORDDATE   ORDTIME  PRDTID  QUANTITY  WEIGHT  AMOUNT  \\\n",
       "0  10001  CSM001 2014-07-23  06:25:00  AJA001        10     240   12500   \n",
       "1  10001  CSM001 2014-07-23  06:30:00  SOK001        10     240   12300   \n",
       "2  10002  CSM003 2014-07-23  06:35:00  AJA001        25     600   31250   \n",
       "3  10003  CSM002 2014-07-23  06:40:00  DUN001        10     240   11800   \n",
       "4  10003  CSM002 2014-07-23  06:45:00  LOT001        20     480   24000   \n",
       "\n",
       "            EVENTTIME  \n",
       "0 2014-07-23 06:25:00  \n",
       "1 2014-07-23 06:30:00  \n",
       "2 2014-07-23 06:35:00  \n",
       "3 2014-07-23 06:40:00  \n",
       "4 2014-07-23 06:45:00  "
      ]
     },
     "execution_count": 28,
     "metadata": {},
     "output_type": "execute_result"
    }
   ],
   "source": [
    "df.head()"
   ]
  },
  {
   "cell_type": "code",
   "execution_count": 29,
   "id": "615807a6",
   "metadata": {},
   "outputs": [
    {
     "data": {
      "text/plain": [
       "ID                    int64\n",
       "CSMCODE              object\n",
       "ORDDATE      datetime64[ns]\n",
       "ORDTIME              object\n",
       "PRDTID               object\n",
       "QUANTITY              int64\n",
       "WEIGHT                int64\n",
       "AMOUNT                int64\n",
       "EVENTTIME    datetime64[ns]\n",
       "dtype: object"
      ]
     },
     "execution_count": 29,
     "metadata": {},
     "output_type": "execute_result"
    }
   ],
   "source": [
    "df.dtypes"
   ]
  },
  {
   "cell_type": "code",
   "execution_count": null,
   "id": "effd5c5b",
   "metadata": {},
   "outputs": [],
   "source": []
  },
  {
   "cell_type": "markdown",
   "id": "993d28a2",
   "metadata": {},
   "source": [
    "# Products"
   ]
  },
  {
   "cell_type": "code",
   "execution_count": 10,
   "id": "5588d93d",
   "metadata": {},
   "outputs": [],
   "source": [
    "prd= df[['PRDTID']]\n",
    "prd['NAME'], prd['STOCK'], prd['RESTOCK'], prd['UNITWEIGHT'] = '', '1500', '1000', '24'"
   ]
  },
  {
   "cell_type": "code",
   "execution_count": 11,
   "id": "3bbf8dd7",
   "metadata": {},
   "outputs": [
    {
     "data": {
      "text/plain": [
       "array(['AJA001', 'SOK001', 'DUN001', 'LOT001', 'BAB001', 'MAI001',\n",
       "       'SMA001', 'PEM001', 'UMI001'], dtype=object)"
      ]
     },
     "execution_count": 11,
     "metadata": {},
     "output_type": "execute_result"
    }
   ],
   "source": [
    "prd['PRDTID'].unique()"
   ]
  },
  {
   "cell_type": "code",
   "execution_count": 12,
   "id": "faac1996",
   "metadata": {},
   "outputs": [],
   "source": [
    "values = {'AJA001':'Ajab HB 2kg', 'SOK001':'Soko HB 2kg', 'DUN001':'Dunia HB 2kg', 'LOT001':'Lotus HB 2kg', 'PEM001':'Pembe HB 2kg','BAB001':'Baba Lao HB 2kg', 'SMA001':'Smatta HB 2kg', 'UMI001':'Umi HB 2kg'}\n",
    "prd['NAME'] = prd['PRDTID'].map(values)"
   ]
  },
  {
   "cell_type": "code",
   "execution_count": 13,
   "id": "1d600fcf",
   "metadata": {},
   "outputs": [],
   "source": [
    "prd.rename(columns = {'PRDTID':'ID'}, inplace = True)"
   ]
  },
  {
   "cell_type": "code",
   "execution_count": 14,
   "id": "2b90e967",
   "metadata": {},
   "outputs": [
    {
     "data": {
      "text/html": [
       "<div>\n",
       "<style scoped>\n",
       "    .dataframe tbody tr th:only-of-type {\n",
       "        vertical-align: middle;\n",
       "    }\n",
       "\n",
       "    .dataframe tbody tr th {\n",
       "        vertical-align: top;\n",
       "    }\n",
       "\n",
       "    .dataframe thead th {\n",
       "        text-align: right;\n",
       "    }\n",
       "</style>\n",
       "<table border=\"1\" class=\"dataframe\">\n",
       "  <thead>\n",
       "    <tr style=\"text-align: right;\">\n",
       "      <th></th>\n",
       "      <th>ID</th>\n",
       "      <th>NAME</th>\n",
       "      <th>STOCK</th>\n",
       "      <th>RESTOCK</th>\n",
       "      <th>UNITWEIGHT</th>\n",
       "    </tr>\n",
       "  </thead>\n",
       "  <tbody>\n",
       "    <tr>\n",
       "      <th>0</th>\n",
       "      <td>AJA001</td>\n",
       "      <td>Ajab HB 2kg</td>\n",
       "      <td>1500</td>\n",
       "      <td>1000</td>\n",
       "      <td>24</td>\n",
       "    </tr>\n",
       "    <tr>\n",
       "      <th>1</th>\n",
       "      <td>SOK001</td>\n",
       "      <td>Soko HB 2kg</td>\n",
       "      <td>1500</td>\n",
       "      <td>1000</td>\n",
       "      <td>24</td>\n",
       "    </tr>\n",
       "    <tr>\n",
       "      <th>2</th>\n",
       "      <td>AJA001</td>\n",
       "      <td>Ajab HB 2kg</td>\n",
       "      <td>1500</td>\n",
       "      <td>1000</td>\n",
       "      <td>24</td>\n",
       "    </tr>\n",
       "    <tr>\n",
       "      <th>3</th>\n",
       "      <td>DUN001</td>\n",
       "      <td>Dunia HB 2kg</td>\n",
       "      <td>1500</td>\n",
       "      <td>1000</td>\n",
       "      <td>24</td>\n",
       "    </tr>\n",
       "    <tr>\n",
       "      <th>4</th>\n",
       "      <td>LOT001</td>\n",
       "      <td>Lotus HB 2kg</td>\n",
       "      <td>1500</td>\n",
       "      <td>1000</td>\n",
       "      <td>24</td>\n",
       "    </tr>\n",
       "  </tbody>\n",
       "</table>\n",
       "</div>"
      ],
      "text/plain": [
       "       ID          NAME STOCK RESTOCK UNITWEIGHT\n",
       "0  AJA001   Ajab HB 2kg  1500    1000         24\n",
       "1  SOK001   Soko HB 2kg  1500    1000         24\n",
       "2  AJA001   Ajab HB 2kg  1500    1000         24\n",
       "3  DUN001  Dunia HB 2kg  1500    1000         24\n",
       "4  LOT001  Lotus HB 2kg  1500    1000         24"
      ]
     },
     "execution_count": 14,
     "metadata": {},
     "output_type": "execute_result"
    }
   ],
   "source": [
    "prd.head()"
   ]
  },
  {
   "cell_type": "code",
   "execution_count": 37,
   "id": "a9038c04",
   "metadata": {},
   "outputs": [
    {
     "data": {
      "text/plain": [
       "ID            object\n",
       "NAME          object\n",
       "STOCK         object\n",
       "RESTOCK       object\n",
       "UNITWEIGHT    object\n",
       "dtype: object"
      ]
     },
     "execution_count": 37,
     "metadata": {},
     "output_type": "execute_result"
    }
   ],
   "source": [
    "prd.dtypes"
   ]
  },
  {
   "cell_type": "markdown",
   "id": "b4a664de",
   "metadata": {},
   "source": [
    "# Pricelist"
   ]
  },
  {
   "cell_type": "code",
   "execution_count": 39,
   "id": "351a384e",
   "metadata": {},
   "outputs": [],
   "source": [
    "prc= df[['PRDTID']]"
   ]
  },
  {
   "cell_type": "code",
   "execution_count": 40,
   "id": "703c54fc",
   "metadata": {},
   "outputs": [],
   "source": [
    "prc['ID'], prc['PRICE'], prc['UOM'] = 'PRC1', '', 'Bale'"
   ]
  },
  {
   "cell_type": "code",
   "execution_count": 45,
   "id": "7c7fd4e4",
   "metadata": {},
   "outputs": [],
   "source": [
    "prices = {'AJA001':1250, 'SOK001':1230, 'DUN001':1180, 'LOT001':1200, 'PEM001':1250,'BAB001':1210, 'SMA001':1190, 'UMI001':1215, 'MAI001':1170}\n",
    "prc['PRICE'] = prc['PRDTID'].map(prices)"
   ]
  },
  {
   "cell_type": "code",
   "execution_count": 46,
   "id": "55966e67",
   "metadata": {},
   "outputs": [],
   "source": [
    "new_index = ['ID', 'PRDTID', 'UOM', 'PRICE']\n",
    "prc = prc.reindex(columns=new_index)"
   ]
  },
  {
   "cell_type": "code",
   "execution_count": 47,
   "id": "76636252",
   "metadata": {},
   "outputs": [],
   "source": [
    "prc['PRICE'] = prc['PRICE'].astype('Int64')"
   ]
  },
  {
   "cell_type": "code",
   "execution_count": 48,
   "id": "35f3ccfd",
   "metadata": {},
   "outputs": [
    {
     "data": {
      "text/html": [
       "<div>\n",
       "<style scoped>\n",
       "    .dataframe tbody tr th:only-of-type {\n",
       "        vertical-align: middle;\n",
       "    }\n",
       "\n",
       "    .dataframe tbody tr th {\n",
       "        vertical-align: top;\n",
       "    }\n",
       "\n",
       "    .dataframe thead th {\n",
       "        text-align: right;\n",
       "    }\n",
       "</style>\n",
       "<table border=\"1\" class=\"dataframe\">\n",
       "  <thead>\n",
       "    <tr style=\"text-align: right;\">\n",
       "      <th></th>\n",
       "      <th>ID</th>\n",
       "      <th>PRDTID</th>\n",
       "      <th>UOM</th>\n",
       "      <th>PRICE</th>\n",
       "    </tr>\n",
       "  </thead>\n",
       "  <tbody>\n",
       "    <tr>\n",
       "      <th>0</th>\n",
       "      <td>PRC1</td>\n",
       "      <td>AJA001</td>\n",
       "      <td>Bale</td>\n",
       "      <td>1250</td>\n",
       "    </tr>\n",
       "    <tr>\n",
       "      <th>1</th>\n",
       "      <td>PRC1</td>\n",
       "      <td>SOK001</td>\n",
       "      <td>Bale</td>\n",
       "      <td>1230</td>\n",
       "    </tr>\n",
       "    <tr>\n",
       "      <th>2</th>\n",
       "      <td>PRC1</td>\n",
       "      <td>AJA001</td>\n",
       "      <td>Bale</td>\n",
       "      <td>1250</td>\n",
       "    </tr>\n",
       "    <tr>\n",
       "      <th>3</th>\n",
       "      <td>PRC1</td>\n",
       "      <td>DUN001</td>\n",
       "      <td>Bale</td>\n",
       "      <td>1180</td>\n",
       "    </tr>\n",
       "    <tr>\n",
       "      <th>4</th>\n",
       "      <td>PRC1</td>\n",
       "      <td>LOT001</td>\n",
       "      <td>Bale</td>\n",
       "      <td>1200</td>\n",
       "    </tr>\n",
       "    <tr>\n",
       "      <th>5</th>\n",
       "      <td>PRC1</td>\n",
       "      <td>BAB001</td>\n",
       "      <td>Bale</td>\n",
       "      <td>1210</td>\n",
       "    </tr>\n",
       "    <tr>\n",
       "      <th>6</th>\n",
       "      <td>PRC1</td>\n",
       "      <td>MAI001</td>\n",
       "      <td>Bale</td>\n",
       "      <td>1170</td>\n",
       "    </tr>\n",
       "    <tr>\n",
       "      <th>7</th>\n",
       "      <td>PRC1</td>\n",
       "      <td>SMA001</td>\n",
       "      <td>Bale</td>\n",
       "      <td>1190</td>\n",
       "    </tr>\n",
       "    <tr>\n",
       "      <th>8</th>\n",
       "      <td>PRC1</td>\n",
       "      <td>AJA001</td>\n",
       "      <td>Bale</td>\n",
       "      <td>1250</td>\n",
       "    </tr>\n",
       "    <tr>\n",
       "      <th>9</th>\n",
       "      <td>PRC1</td>\n",
       "      <td>PEM001</td>\n",
       "      <td>Bale</td>\n",
       "      <td>1250</td>\n",
       "    </tr>\n",
       "  </tbody>\n",
       "</table>\n",
       "</div>"
      ],
      "text/plain": [
       "     ID  PRDTID   UOM  PRICE\n",
       "0  PRC1  AJA001  Bale   1250\n",
       "1  PRC1  SOK001  Bale   1230\n",
       "2  PRC1  AJA001  Bale   1250\n",
       "3  PRC1  DUN001  Bale   1180\n",
       "4  PRC1  LOT001  Bale   1200\n",
       "5  PRC1  BAB001  Bale   1210\n",
       "6  PRC1  MAI001  Bale   1170\n",
       "7  PRC1  SMA001  Bale   1190\n",
       "8  PRC1  AJA001  Bale   1250\n",
       "9  PRC1  PEM001  Bale   1250"
      ]
     },
     "execution_count": 48,
     "metadata": {},
     "output_type": "execute_result"
    }
   ],
   "source": [
    "prc.head(10)"
   ]
  },
  {
   "cell_type": "code",
   "execution_count": 49,
   "id": "fb26b6f0",
   "metadata": {},
   "outputs": [
    {
     "data": {
      "text/plain": [
       "ID        object\n",
       "PRDTID    object\n",
       "UOM       object\n",
       "PRICE      Int64\n",
       "dtype: object"
      ]
     },
     "execution_count": 49,
     "metadata": {},
     "output_type": "execute_result"
    }
   ],
   "source": [
    "prc.dtypes"
   ]
  },
  {
   "cell_type": "markdown",
   "id": "fb7e771f",
   "metadata": {},
   "source": [
    "# Save"
   ]
  },
  {
   "cell_type": "code",
   "execution_count": 51,
   "id": "bb0d0ed2",
   "metadata": {},
   "outputs": [],
   "source": [
    "# The 'index=False 'parameter ensures that the index column is not included in the saved CSV file\n",
    "\n",
    "df.to_csv('Orders.csv', index=False)\n",
    "prd.to_csv('Products.csv', index=False)\n",
    "prc.to_csv('Pricelist.csv', index=False)"
   ]
  },
  {
   "cell_type": "code",
   "execution_count": 30,
   "id": "096b3658",
   "metadata": {},
   "outputs": [],
   "source": [
    "df.to_csv('Orders.csv', index=False)"
   ]
  },
  {
   "cell_type": "markdown",
   "id": "c308d63d",
   "metadata": {},
   "source": [
    "Load Orders Table"
   ]
  },
  {
   "cell_type": "code",
   "execution_count": 31,
   "id": "0d62af00",
   "metadata": {},
   "outputs": [
    {
     "name": "stdout",
     "output_type": "stream",
     "text": [
      "Data loaded into 'orders' table successfully.\n"
     ]
    }
   ],
   "source": [
    "table_names = ['orders']\n",
    "csv_files = ['Orders.csv']\n",
    "\n",
    "try:\n",
    "    with psycopg2.connect(\n",
    "            host=\"localhost\",\n",
    "            port=5432,\n",
    "            database=\"database\",\n",
    "            user=\"username\",\n",
    "            password=\"password\"\n",
    "    ) as conn, conn.cursor() as cursor:\n",
    "        for table_name, csv_file in zip(table_names, csv_files):\n",
    "            cursor.execute(\n",
    "                \"SELECT EXISTS (SELECT FROM information_schema.tables WHERE table_name = %s)\",\n",
    "                (table_name,)\n",
    "            )\n",
    "            table_exists = cursor.fetchone()[0]\n",
    "\n",
    "            if not table_exists:\n",
    "                cursor.execute(\"\"\"\n",
    "                    CREATE TABLE {} (\n",
    "                        id int,\n",
    "                        csmcode VARCHAR(10),\n",
    "                        orddate DATE,\n",
    "                        ordtime TIME,\n",
    "                        prdtid VARCHAR(10),\n",
    "                        quantity INTEGER,\n",
    "                        weight INTEGER,\n",
    "                        amount INTEGER,\n",
    "                        eventtime TIME,\n",
    "                    )\n",
    "                \"\"\".format(table_name))\n",
    "                print(f\"Table '{table_name}' created successfully.\")\n",
    "\n",
    "            with open(csv_file, 'r') as file:\n",
    "                next(file)\n",
    "                cursor.copy_expert(\n",
    "                \"COPY {} FROM STDIN WITH CSV NULL 'NULL'\".format(table_name),\n",
    "                file)\n",
    "                print(f\"Data loaded into '{table_name}' table successfully.\")\n",
    "\n",
    "except psycopg2.Error as e:\n",
    "    print(f\"An error occurred: {e}\")\n"
   ]
  },
  {
   "cell_type": "code",
   "execution_count": null,
   "id": "6a1651f2",
   "metadata": {},
   "outputs": [],
   "source": []
  },
  {
   "cell_type": "markdown",
   "id": "b648b6db",
   "metadata": {},
   "source": [
    "Load Products Table"
   ]
  },
  {
   "cell_type": "code",
   "execution_count": 33,
   "id": "806281a7",
   "metadata": {},
   "outputs": [
    {
     "name": "stdout",
     "output_type": "stream",
     "text": [
      "Data loaded into 'products' table successfully.\n"
     ]
    }
   ],
   "source": [
    "table_names = ['products']\n",
    "csv_files = ['Products.csv']\n",
    "\n",
    "try:\n",
    "    with psycopg2.connect(\n",
    "            host=\"localhost\",\n",
    "            port=5432,\n",
    "            database=\"database\",\n",
    "            user=\"username\",\n",
    "            password=\"password\"\n",
    "    ) as conn, conn.cursor() as cursor:\n",
    "        for table_name, csv_file in zip(table_names, csv_files):\n",
    "            cursor.execute(\n",
    "                \"SELECT EXISTS (SELECT FROM information_schema.tables WHERE table_name = %s)\",\n",
    "                (table_name,)\n",
    "            )\n",
    "            table_exists = cursor.fetchone()[0]\n",
    "\n",
    "            if not table_exists:\n",
    "                cursor.execute(\"\"\"\n",
    "                    CREATE TABLE {} (\n",
    "                        id VARCHAR(10),\n",
    "                        name VARCHAR(50),\n",
    "                        stock INTEGER,\n",
    "                        restock INTEGER,\n",
    "                        unitweight INTEGER\n",
    "                    )\n",
    "                \"\"\".format(table_name))\n",
    "                print(f\"Table '{table_name}' created successfully.\")\n",
    "\n",
    "            with open(csv_file, 'r') as file:\n",
    "                next(file)\n",
    "                cursor.copy_expert(\n",
    "                \"COPY {} FROM STDIN WITH CSV NULL 'NULL'\".format(table_name),\n",
    "                file)\n",
    "                print(f\"Data loaded into '{table_name}' table successfully.\")\n",
    "\n",
    "except psycopg2.Error as e:\n",
    "    print(f\"An error occurred: {e}\")"
   ]
  },
  {
   "cell_type": "code",
   "execution_count": null,
   "id": "f4959f57",
   "metadata": {},
   "outputs": [],
   "source": []
  },
  {
   "cell_type": "markdown",
   "id": "3624d863",
   "metadata": {},
   "source": [
    "Load Pricelist Table"
   ]
  },
  {
   "cell_type": "code",
   "execution_count": 52,
   "id": "a05f3d71",
   "metadata": {},
   "outputs": [
    {
     "name": "stdout",
     "output_type": "stream",
     "text": [
      "Data loaded into 'pricelist' table successfully.\n"
     ]
    }
   ],
   "source": [
    "table_names = ['pricelist']\n",
    "csv_files = ['Pricelist.csv']\n",
    "\n",
    "try:\n",
    "    with psycopg2.connect(\n",
    "            host=\"localhost\",\n",
    "            port=5432,\n",
    "            database=\"database\",\n",
    "            user=\"username\",\n",
    "            password=\"password\"\n",
    "    ) as conn, conn.cursor() as cursor:\n",
    "        for table_name, csv_file in zip(table_names, csv_files):\n",
    "            cursor.execute(\n",
    "                \"SELECT EXISTS (SELECT FROM information_schema.tables WHERE table_name = %s)\",\n",
    "                (table_name,)\n",
    "            )\n",
    "            table_exists = cursor.fetchone()[0]\n",
    "\n",
    "            if not table_exists:\n",
    "                cursor.execute(\"\"\"\n",
    "                    CREATE TABLE {} (\n",
    "                        id VARCHAR(10),\n",
    "                        prdtid VARCHAR(10), \n",
    "                        uom VARCHAR(10),\n",
    "                        price INTEGER\n",
    "                    )\n",
    "                \"\"\".format(table_name))\n",
    "                print(f\"Table '{table_name}' created successfully.\")\n",
    "\n",
    "            with open(csv_file, 'r') as file:\n",
    "                next(file)\n",
    "                cursor.copy_expert(\n",
    "                \"COPY {} FROM STDIN WITH CSV NULL 'NULL'\".format(table_name),\n",
    "                file)\n",
    "                print(f\"Data loaded into '{table_name}' table successfully.\")\n",
    "\n",
    "except psycopg2.Error as e:\n",
    "    print(f\"An error occurred: {e}\")"
   ]
  },
  {
   "cell_type": "code",
   "execution_count": null,
   "id": "4178a209",
   "metadata": {},
   "outputs": [],
   "source": []
  }
 ],
 "metadata": {
  "kernelspec": {
   "display_name": "Python 3 (ipykernel)",
   "language": "python",
   "name": "python3"
  },
  "language_info": {
   "codemirror_mode": {
    "name": "ipython",
    "version": 3
   },
   "file_extension": ".py",
   "mimetype": "text/x-python",
   "name": "python",
   "nbconvert_exporter": "python",
   "pygments_lexer": "ipython3",
   "version": "3.11.3"
  }
 },
 "nbformat": 4,
 "nbformat_minor": 5
}
